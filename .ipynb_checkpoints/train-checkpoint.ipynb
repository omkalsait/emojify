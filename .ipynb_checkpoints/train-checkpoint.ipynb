{
 "cells": [
  {
   "cell_type": "markdown",
   "metadata": {},
   "source": [
    "## import Libraries"
   ]
  },
  {
   "cell_type": "code",
   "execution_count": 1,
   "metadata": {},
   "outputs": [],
   "source": [
    "import numpy as np\n",
    "import os \n",
    "import cv2 as cv\n",
    "import tensorflow as tf\n"
   ]
  },
  {
   "cell_type": "markdown",
   "metadata": {},
   "source": [
    "## generate training data and test data"
   ]
  },
  {
   "cell_type": "code",
   "execution_count": 7,
   "metadata": {},
   "outputs": [
    {
     "name": "stdout",
     "output_type": "stream",
     "text": [
      "Found 28710 images belonging to 7 classes.\n",
      "Found 7178 images belonging to 7 classes.\n"
     ]
    }
   ],
   "source": [
    "from tensorflow.keras.preprocessing.image import ImageDataGenerator\n",
    "train_dir = 'train'\n",
    "val_dir = 'test'\n",
    "train_gen = ImageDataGenerator(rescale=1./255)\n",
    "test_gen = ImageDataGenerator(rescale=1./255)\n",
    "\n",
    "train_generator = train_gen.flow_from_directory( train_dir,\n",
    "                                                target_size=(48,48),\n",
    "                                                batch_size=64,\n",
    "                                                color_mode=\"grayscale\",\n",
    "                                                class_mode='categorical')\n",
    "\n",
    "test_generator = test_gen.flow_from_directory( val_dir,\n",
    "                                                target_size=(48,48),\n",
    "                                                batch_size=64,\n",
    "                                                color_mode=\"grayscale\",\n",
    "                                                class_mode='categorical')\n"
   ]
  },
  {
   "cell_type": "code",
   "execution_count": 12,
   "metadata": {},
   "outputs": [],
   "source": [
    "from tensorflow.keras.models import Sequential\n",
    "from tensorflow.keras.layers import Dense, Dropout, Flatten\n",
    "from tensorflow.keras.layers import Conv2D\n",
    "from tensorflow.keras.optimizers import Adam\n",
    "from tensorflow.keras.layers import MaxPooling2D"
   ]
  },
  {
   "cell_type": "code",
   "execution_count": 21,
   "metadata": {},
   "outputs": [],
   "source": [
    "input_shape = (48,48,1)\n",
    "emotion_model = Sequential()\n",
    "emotion_model.add(Conv2D(4,3,activation='relu', padding = 'same', input_shape=input_shape))\n",
    "emotion_model.add(Dropout(0.1))\n",
    "emotion_model.add(MaxPooling2D((2,2))) # output size = 24x24x3\n",
    "emotion_model.add(Conv2D(8,3,activation='relu', padding = 'same'))\n",
    "emotion_model.add(Dropout(0.1))\n",
    "emotion_model.add(MaxPooling2D((3,3))) # output size = 8x8x9\n",
    "emotion_model.add(Conv2D(24,3,activation='relu', padding = 'same'))\n",
    "emotion_model.add(Dropout(0.1))\n",
    "emotion_model.add(MaxPooling2D((3,3))) # output size = 4x4x18\n",
    "emotion_model.add(Conv2D(48,3,activation='relu', padding = 'same'))\n",
    "emotion_model.add(Dropout(0.1))\n",
    "emotion_model.add(MaxPooling2D((2,2))) # output size = 1x1x36\n",
    "emotion_model.add(Flatten())\n",
    "emotion_model.add(Dense(7,activation='softmax'))"
   ]
  },
  {
   "cell_type": "code",
   "execution_count": 22,
   "metadata": {},
   "outputs": [
    {
     "name": "stdout",
     "output_type": "stream",
     "text": [
      "Model: \"sequential_4\"\n",
      "_________________________________________________________________\n",
      "Layer (type)                 Output Shape              Param #   \n",
      "=================================================================\n",
      "conv2d_12 (Conv2D)           (None, 48, 48, 4)         40        \n",
      "_________________________________________________________________\n",
      "dropout_11 (Dropout)         (None, 48, 48, 4)         0         \n",
      "_________________________________________________________________\n",
      "max_pooling2d_11 (MaxPooling (None, 24, 24, 4)         0         \n",
      "_________________________________________________________________\n",
      "conv2d_13 (Conv2D)           (None, 24, 24, 8)         296       \n",
      "_________________________________________________________________\n",
      "dropout_12 (Dropout)         (None, 24, 24, 8)         0         \n",
      "_________________________________________________________________\n",
      "max_pooling2d_12 (MaxPooling (None, 8, 8, 8)           0         \n",
      "_________________________________________________________________\n",
      "conv2d_14 (Conv2D)           (None, 8, 8, 24)          1752      \n",
      "_________________________________________________________________\n",
      "dropout_13 (Dropout)         (None, 8, 8, 24)          0         \n",
      "_________________________________________________________________\n",
      "max_pooling2d_13 (MaxPooling (None, 4, 4, 24)          0         \n",
      "_________________________________________________________________\n",
      "conv2d_15 (Conv2D)           (None, 4, 4, 48)          10416     \n",
      "_________________________________________________________________\n",
      "dropout_14 (Dropout)         (None, 4, 4, 48)          0         \n",
      "_________________________________________________________________\n",
      "max_pooling2d_14 (MaxPooling (None, 2, 2, 48)          0         \n",
      "_________________________________________________________________\n",
      "conv2d_16 (Conv2D)           (None, 2, 2, 96)          41568     \n",
      "_________________________________________________________________\n",
      "dropout_15 (Dropout)         (None, 2, 2, 96)          0         \n",
      "_________________________________________________________________\n",
      "max_pooling2d_15 (MaxPooling (None, 1, 1, 96)          0         \n",
      "_________________________________________________________________\n",
      "flatten_2 (Flatten)          (None, 96)                0         \n",
      "_________________________________________________________________\n",
      "dense_2 (Dense)              (None, 7)                 679       \n",
      "=================================================================\n",
      "Total params: 54,751\n",
      "Trainable params: 54,751\n",
      "Non-trainable params: 0\n",
      "_________________________________________________________________\n"
     ]
    }
   ],
   "source": [
    "emotion_model.summary()"
   ]
  },
  {
   "cell_type": "code",
   "execution_count": null,
   "metadata": {},
   "outputs": [],
   "source": []
  }
 ],
 "metadata": {
  "kernelspec": {
   "display_name": "Python 3",
   "language": "python",
   "name": "python3"
  },
  "language_info": {
   "codemirror_mode": {
    "name": "ipython",
    "version": 3
   },
   "file_extension": ".py",
   "mimetype": "text/x-python",
   "name": "python",
   "nbconvert_exporter": "python",
   "pygments_lexer": "ipython3",
   "version": "3.7.4"
  }
 },
 "nbformat": 4,
 "nbformat_minor": 4
}
